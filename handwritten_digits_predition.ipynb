{
 "cells": [
  {
   "cell_type": "code",
   "execution_count": 1,
   "id": "32ae2c5f",
   "metadata": {},
   "outputs": [],
   "source": [
    "import tensorflow.keras as tf\n",
    "import numpy as np\n",
    "import cv2\n",
    "import matplotlib.pyplot as plt"
   ]
  },
  {
   "cell_type": "code",
   "execution_count": 2,
   "id": "1b151bea",
   "metadata": {},
   "outputs": [],
   "source": [
    "mnist = tf.datasets.mnist\n",
    "(xtrain,ytrain), (xtest,ytest) = mnist.load_data()"
   ]
  },
  {
   "cell_type": "code",
   "execution_count": 7,
   "id": "c225e6bb",
   "metadata": {},
   "outputs": [
    {
     "data": {
      "image/png": "[encoded data removed]",
      "text/plain": [
       "<Figure size 432x288 with 1 Axes>"
      ]
     },
     "metadata": {
      "needs_background": "light"
     },
     "output_type": "display_data"
    }
   ],
   "source": [
    "plt.imshow(xtrain[5], cmap='gray')\n",
    "plt.show()"
   ]
  },
  {
   "cell_type": "code",
   "execution_count": 8,
   "id": "8adee26b",
   "metadata": {},
   "outputs": [],
   "source": [
    "import pandas as pd"
   ]
  },
  {
   "cell_type": "code",
   "execution_count": 10,
   "id": "ac58c409",
   "metadata": {},
   "outputs": [],
   "source": [
    "xtrain = xtrain/255\n",
    "xtest = xtest/255"
   ]
  },
  {
   "cell_type": "code",
   "execution_count": 9,
   "id": "6e785681",
   "metadata": {},
   "outputs": [],
   "source": [
    "model = tf.models.Sequential()\n",
    "\n",
    "model.add(tf.layers.Flatten())\n",
    "model.add(tf.layers.Dense(784,activation=\"relu\"))\n",
    "model.add(tf.layers.Dense(10,activation=\"softmax\"))\n",
    "\n",
    "model.compile(loss = \"sparse_categorical_crossentropy\", optimizer=\"adam\", metrics = [\"accuracy\"])"
   ]
  },
  {
   "cell_type": "code",
   "execution_count": 11,
   "id": "11cf0aae",
   "metadata": {},
   "outputs": [
    {
     "name": "stdout",
     "output_type": "stream",
     "text": [
      "Epoch 1/15\n",
      "1875/1875 [==============================] - 25s 13ms/step - loss: 0.1903 - accuracy: 0.9434 - val_loss: 0.0981 - val_accuracy: 0.9690\n",
      "Epoch 2/15\n",
      "1875/1875 [==============================] - 23s 12ms/step - loss: 0.0758 - accuracy: 0.9764 - val_loss: 0.0713 - val_accuracy: 0.9776\n",
      "Epoch 3/15\n",
      "1875/1875 [==============================] - 22s 12ms/step - loss: 0.0496 - accuracy: 0.9840 - val_loss: 0.0791 - val_accuracy: 0.9772\n",
      "Epoch 4/15\n",
      "1875/1875 [==============================] - 23s 12ms/step - loss: 0.0335 - accuracy: 0.9889 - val_loss: 0.0679 - val_accuracy: 0.9791\n",
      "Epoch 5/15\n",
      "1875/1875 [==============================] - 22s 12ms/step - loss: 0.0257 - accuracy: 0.9915 - val_loss: 0.0758 - val_accuracy: 0.9791\n",
      "Epoch 6/15\n",
      "1875/1875 [==============================] - 22s 12ms/step - loss: 0.0205 - accuracy: 0.9934 - val_loss: 0.0700 - val_accuracy: 0.9824\n",
      "Epoch 7/15\n",
      "1875/1875 [==============================] - 23s 12ms/step - loss: 0.0176 - accuracy: 0.9944 - val_loss: 0.0683 - val_accuracy: 0.9846\n",
      "Epoch 8/15\n",
      "1875/1875 [==============================] - 23s 12ms/step - loss: 0.0139 - accuracy: 0.9955 - val_loss: 0.0766 - val_accuracy: 0.9818\n",
      "Epoch 9/15\n",
      "1875/1875 [==============================] - 23s 12ms/step - loss: 0.0125 - accuracy: 0.9959 - val_loss: 0.0885 - val_accuracy: 0.9792\n",
      "Epoch 10/15\n",
      "1875/1875 [==============================] - 22s 12ms/step - loss: 0.0114 - accuracy: 0.9963 - val_loss: 0.0808 - val_accuracy: 0.9839\n",
      "Epoch 11/15\n",
      "1875/1875 [==============================] - 23s 12ms/step - loss: 0.0106 - accuracy: 0.9965 - val_loss: 0.0789 - val_accuracy: 0.9836\n",
      "Epoch 12/15\n",
      "1875/1875 [==============================] - 23s 12ms/step - loss: 0.0093 - accuracy: 0.9969 - val_loss: 0.0957 - val_accuracy: 0.9798\n",
      "Epoch 13/15\n",
      "1875/1875 [==============================] - 22s 12ms/step - loss: 0.0100 - accuracy: 0.9965 - val_loss: 0.0991 - val_accuracy: 0.9818\n",
      "Epoch 14/15\n",
      "1875/1875 [==============================] - 23s 12ms/step - loss: 0.0085 - accuracy: 0.9974 - val_loss: 0.0954 - val_accuracy: 0.9827\n",
      "Epoch 15/15\n",
      "1875/1875 [==============================] - 22s 12ms/step - loss: 0.0066 - accuracy: 0.9978 - val_loss: 0.1088 - val_accuracy: 0.9811\n"
     ]
    },
    {
     "data": {
      "text/plain": [
       "<keras.callbacks.History at 0x217690a59a0>"
      ]
     },
     "execution_count": 11,
     "metadata": {},
     "output_type": "execute_result"
    }
   ],
   "source": [
    "model.fit(xtrain, ytrain, epochs=15, validation_data=(xtest, ytest))"
   ]
  },
  {
   "cell_type": "code",
   "execution_count": 12,
   "id": "746c9a24",
   "metadata": {},
   "outputs": [
    {
     "name": "stdout",
     "output_type": "stream",
     "text": [
      "313/313 [==============================] - 13s 6ms/step - loss: 0.1088 - accuracy: 0.9811\n"
     ]
    },
    {
     "data": {
      "text/plain": [
       "[0.10877435654401779, 0.9811000227928162]"
      ]
     },
     "execution_count": 12,
     "metadata": {},
     "output_type": "execute_result"
    }
   ],
   "source": [
    "model.evaluate(xtest,ytest)"
   ]
  },
  {
   "cell_type": "code",
   "execution_count": 13,
   "id": "04266b0d",
   "metadata": {},
   "outputs": [
    {
     "data": {
      "image/png": "[encoded data removed]",
      "text/plain": [
       "<Figure size 432x288 with 1 Axes>"
      ]
     },
     "metadata": {
      "needs_background": "light"
     },
     "output_type": "display_data"
    }
   ],
   "source": [
    "plt.imshow(xtest[9], cmap=\"gray\")\n",
    "plt.show()"
   ]
  },
  {
   "cell_type": "code",
   "execution_count": 14,
   "id": "c5a5f523",
   "metadata": {},
   "outputs": [
    {
     "data": {
      "text/plain": [
       "9"
      ]
     },
     "execution_count": 14,
     "metadata": {},
     "output_type": "execute_result"
    }
   ],
   "source": [
    "ytest[9]"
   ]
  },
  {
   "cell_type": "code",
   "execution_count": 15,
   "id": "cd627b34",
   "metadata": {},
   "outputs": [],
   "source": [
    "y_pred = model.predict(xtest)"
   ]
  },
  {
   "cell_type": "code",
   "execution_count": 17,
   "id": "5984e9c0",
   "metadata": {},
   "outputs": [
    {
     "data": {
      "text/plain": [
       "0.9811"
      ]
     },
     "execution_count": 17,
     "metadata": {},
     "output_type": "execute_result"
    }
   ],
   "source": [
    "from sklearn.metrics import accuracy_score\n",
    "a = accuracy_score(ytest, np.argmax(y_pred, axis=1))\n",
    "a"
   ]
  },
  {
   "cell_type": "code",
   "execution_count": 18,
   "id": "bb018f0e",
   "metadata": {},
   "outputs": [],
   "source": [
    "model.save('mnist.h5')"
   ]
  },
  {
   "cell_type": "code",
   "execution_count": 19,
   "id": "b74ecd9a",
   "metadata": {},
   "outputs": [],
   "source": [
    "my_model = tf.models.load_model(\"mnist.h5\")"
   ]
  },
  {
   "cell_type": "code",
   "execution_count": null,
   "id": "86dec6c2",
   "metadata": {},
   "outputs": [],
   "source": []
  },
  {
   "cell_type": "code",
   "execution_count": null,
   "id": "16163356",
   "metadata": {},
   "outputs": [],
   "source": []
  },
  {
   "cell_type": "code",
   "execution_count": null,
   "id": "ec127e7a",
   "metadata": {},
   "outputs": [],
   "source": []
  }
 ],
 "metadata": {
  "kernelspec": {
   "display_name": "Python 3 (ipykernel)",
   "language": "python",
   "name": "python3"
  },
  "language_info": {
   "codemirror_mode": {
    "name": "ipython",
    "version": 3
   },
   "file_extension": ".py",
   "mimetype": "text/x-python",
   "name": "python",
   "nbconvert_exporter": "python",
   "pygments_lexer": "ipython3",
   "version": "3.10.9"
  }
 },
 "nbformat": 4,
 "nbformat_minor": 5
}
